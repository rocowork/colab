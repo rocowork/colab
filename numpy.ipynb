{
  "nbformat": 4,
  "nbformat_minor": 0,
  "metadata": {
    "colab": {
      "name": "Untitled1.ipynb",
      "version": "0.3.2",
      "provenance": [],
      "include_colab_link": true
    },
    "kernelspec": {
      "name": "python3",
      "display_name": "Python 3"
    },
    "accelerator": "GPU"
  },
  "cells": [
    {
      "cell_type": "markdown",
      "metadata": {
        "id": "view-in-github",
        "colab_type": "text"
      },
      "source": [
        "<a href=\"https://colab.research.google.com/github/rocowork/colab/blob/master/numpy.ipynb\" target=\"_parent\"><img src=\"https://colab.research.google.com/assets/colab-badge.svg\" alt=\"Open In Colab\"/></a>"
      ]
    },
    {
      "metadata": {
        "id": "vyVoLqbLuSIW",
        "colab_type": "code",
        "colab": {
          "base_uri": "https://localhost:8080/",
          "height": 51
        },
        "outputId": "9922ada9-abdf-4d0a-dd75-5c09234ed6d0"
      },
      "cell_type": "code",
      "source": [
        "# 引入 numpy 模組\n",
        "import numpy as np\n",
        "np1 = np.array([1, 2, 3])\n",
        "np2 = np.array([3, 4, 5])\n",
        "\n",
        "# 陣列相加\n",
        "print(np1 + np2) # [4 6 8]\n",
        "\n",
        "# 顯示相關資訊\n",
        "print(np1.ndim, np1.shape, np1.dtype) # 1 (3,) int64 => 一維陣列, 三個元素, 資料型別\n",
        "\n",
        "np3 = np.array([1, 2, 3, 4, 5, 6])"
      ],
      "execution_count": 1,
      "outputs": [
        {
          "output_type": "stream",
          "text": [
            "[4 6 8]\n",
            "1 (3,) int64\n"
          ],
          "name": "stdout"
        }
      ]
    },
    {
      "metadata": {
        "id": "wM4J00BCv2Pq",
        "colab_type": "code",
        "colab": {
          "base_uri": "https://localhost:8080/",
          "height": 85
        },
        "outputId": "795944a1-c7c0-4fd6-e58c-558bb5b4bed8"
      },
      "cell_type": "code",
      "source": [
        "# Create 2 new lists height and weight\n",
        "height = [1.87,  1.87, 1.82, 1.91, 1.90, 1.85]\n",
        "weight = [81.65, 97.52, 95.25, 92.98, 86.18, 88.45]\n",
        "\n",
        "# Import the numpy package as np\n",
        "import numpy as np\n",
        "\n",
        "# Create 2 numpy arrays from height and weight\n",
        "np_height = np.array(height)\n",
        "np_weight = np.array(weight)\n",
        "\n",
        "print(type(np_height)) #Print out the type of np_height\n",
        "\n",
        "# Calculate bmi\n",
        "bmi = np_weight / np_height ** 2\n",
        "\n",
        "# Print the result\n",
        "print(bmi)\n",
        "\n",
        "# For a boolean response\n",
        "bmi > 23\n",
        "\n",
        "# Print only those observations above 23\n",
        "bmi[bmi > 23]\n",
        "\n"
      ],
      "execution_count": 11,
      "outputs": [
        {
          "output_type": "stream",
          "text": [
            "<class 'numpy.ndarray'>\n",
            "[23.34925219 27.88755755 28.75558507 25.48723993 23.87257618 25.84368152]\n"
          ],
          "name": "stdout"
        },
        {
          "output_type": "execute_result",
          "data": {
            "text/plain": [
              "array([23.34925219, 27.88755755, 28.75558507, 25.48723993, 23.87257618,\n",
              "       25.84368152])"
            ]
          },
          "metadata": {
            "tags": []
          },
          "execution_count": 11
        }
      ]
    },
    {
      "metadata": {
        "id": "iqZUrZRsv9Y6",
        "colab_type": "code",
        "colab": {
          "base_uri": "https://localhost:8080/",
          "height": 34
        },
        "outputId": "b0020a24-cd66-454e-e9e8-e1c682834fc2"
      },
      "cell_type": "code",
      "source": [
        "weight_kg = [81.65, 97.52, 95.25, 92.98, 86.18, 88.45]\n",
        "\n",
        "import numpy as np\n",
        "\n",
        "# Create a numpy array np_weight_kg from weight_kg\n",
        "np_weight_kg = np.array(weight_kg)    \n",
        "\n",
        "# Create np_weight_lbs from np_weight_kg\n",
        "np_weight_lbs = np_weight_kg / 2.2\n",
        "# Print out np_weight_lbs\n",
        "print(np_weight_lbs)"
      ],
      "execution_count": 13,
      "outputs": [
        {
          "output_type": "stream",
          "text": [
            "[37.11363636 44.32727273 43.29545455 42.26363636 39.17272727 40.20454545]\n"
          ],
          "name": "stdout"
        }
      ]
    },
    {
      "metadata": {
        "id": "4Xf8ucQezfBP",
        "colab_type": "code",
        "colab": {
          "base_uri": "https://localhost:8080/",
          "height": 799
        },
        "outputId": "59091338-d9d9-4e99-8522-e031a091012b"
      },
      "cell_type": "code",
      "source": [
        "dict = {\"country\": [\"Brazil\", \"Russia\", \"India\", \"China\", \"South Africa\"],\n",
        "       \"capital\": [\"Brasilia\", \"Moscow\", \"New Dehli\", \"Beijing\", \"Pretoria\"],\n",
        "       \"area\": [8.516, 17.10, 3.286, 9.597, 1.221],\n",
        "       \"population\": [200.4, 143.5, 1252, 1357, 52.98] }\n",
        "\n",
        "import pandas as pd\n",
        "brics = pd.DataFrame(dict)\n",
        "print(brics)\n",
        "\n",
        "# Set the index for brics\n",
        "brics.index = [\"BR\", \"RU\", \"IN\", \"CH\", \"SA\"]\n",
        "\n",
        "# Print out brics with new index values\n",
        "print(brics)\n",
        "\n",
        "# Print out brics column as Pandas Series\n",
        "print(brics['area'])\n",
        "\n",
        "# Print out brics column as Pandas DataFrame\n",
        "print(brics[['area']])\n",
        "\n",
        "# Print out DataFrame with country and capital columns\n",
        "print(brics[['country', 'capital']])\n",
        "\n",
        "# Print out first 4 observations\n",
        "print(brics[0:4])\n",
        "\n",
        "# Print out  third, and fourth observation\n",
        "print(brics[2:4])\n",
        "\n",
        "# Print out observation for INDIA\n",
        "print(brics.iloc[2])\n",
        "\n",
        "# Print out observations for Brazil and South Africa\n",
        "print(brics.loc[['BR', 'SA']])"
      ],
      "execution_count": 27,
      "outputs": [
        {
          "output_type": "stream",
          "text": [
            "     area    capital       country  population\n",
            "0   8.516   Brasilia        Brazil      200.40\n",
            "1  17.100     Moscow        Russia      143.50\n",
            "2   3.286  New Dehli         India     1252.00\n",
            "3   9.597    Beijing         China     1357.00\n",
            "4   1.221   Pretoria  South Africa       52.98\n",
            "      area    capital       country  population\n",
            "BR   8.516   Brasilia        Brazil      200.40\n",
            "RU  17.100     Moscow        Russia      143.50\n",
            "IN   3.286  New Dehli         India     1252.00\n",
            "CH   9.597    Beijing         China     1357.00\n",
            "SA   1.221   Pretoria  South Africa       52.98\n",
            "BR     8.516\n",
            "RU    17.100\n",
            "IN     3.286\n",
            "CH     9.597\n",
            "SA     1.221\n",
            "Name: area, dtype: float64\n",
            "      area\n",
            "BR   8.516\n",
            "RU  17.100\n",
            "IN   3.286\n",
            "CH   9.597\n",
            "SA   1.221\n",
            "         country    capital\n",
            "BR        Brazil   Brasilia\n",
            "RU        Russia     Moscow\n",
            "IN         India  New Dehli\n",
            "CH         China    Beijing\n",
            "SA  South Africa   Pretoria\n",
            "      area    capital country  population\n",
            "BR   8.516   Brasilia  Brazil       200.4\n",
            "RU  17.100     Moscow  Russia       143.5\n",
            "IN   3.286  New Dehli   India      1252.0\n",
            "CH   9.597    Beijing   China      1357.0\n",
            "     area    capital country  population\n",
            "IN  3.286  New Dehli   India      1252.0\n",
            "CH  9.597    Beijing   China      1357.0\n",
            "area              3.286\n",
            "capital       New Dehli\n",
            "country           India\n",
            "population         1252\n",
            "Name: IN, dtype: object\n",
            "     area   capital       country  population\n",
            "BR  8.516  Brasilia        Brazil      200.40\n",
            "SA  1.221  Pretoria  South Africa       52.98\n"
          ],
          "name": "stdout"
        }
      ]
    },
    {
      "metadata": {
        "id": "ptrhrAO14PLd",
        "colab_type": "code",
        "colab": {}
      },
      "cell_type": "code",
      "source": [
        ""
      ],
      "execution_count": 0,
      "outputs": []
    }
  ]
}