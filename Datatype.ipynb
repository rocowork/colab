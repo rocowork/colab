{
  "nbformat": 4,
  "nbformat_minor": 0,
  "metadata": {
    "colab": {
      "name": "Datatype.ipynb",
      "version": "0.3.2",
      "provenance": [],
      "collapsed_sections": [],
      "include_colab_link": true
    },
    "kernelspec": {
      "name": "python3",
      "display_name": "Python 3"
    }
  },
  "cells": [
    {
      "cell_type": "markdown",
      "metadata": {
        "id": "view-in-github",
        "colab_type": "text"
      },
      "source": [
        "<a href=\"https://colab.research.google.com/github/rocowork/colab/blob/master/Datatype.ipynb\" target=\"_parent\"><img src=\"https://colab.research.google.com/assets/colab-badge.svg\" alt=\"Open In Colab\"/></a>"
      ]
    },
    {
      "metadata": {
        "id": "YAMKoVzd7Ewc",
        "colab_type": "code",
        "outputId": "1445833d-645a-476a-a6c2-1f2bf76cb099",
        "colab": {
          "base_uri": "https://localhost:8080/",
          "height": 34
        }
      },
      "cell_type": "code",
      "source": [
        "#數字\n",
        "3456\n",
        "#字串\n",
        "\"任意文字\"\n",
        "#布林值\n",
        "True\n",
        "False\n",
        "#有順序、可動的列表List\n",
        "[3,4,5]\n",
        "[\"Hello\",\"World\"]\n",
        "#有順序、不可動的列表Tuple\n",
        "(3,4,5)\n",
        "(\"Hello\",\"World\")\n",
        "#集合Set\n",
        "{3,4,5}\n",
        "{\"Hello\",\"World\"}\n",
        "#字典 Dictionary\n",
        "{\"apple\":\"蘋果\",\"data\":\"資料\"}\n",
        "\n",
        "#變數:用來儲存資料的自訂名稱\n",
        "#變數名稱=資料\n",
        "x=3\n",
        "x=True #取代舊資料\n",
        "#print(資料)\n",
        "print(x)"
      ],
      "execution_count": 0,
      "outputs": [
        {
          "output_type": "stream",
          "text": [
            "True\n"
          ],
          "name": "stdout"
        }
      ]
    },
    {
      "metadata": {
        "id": "n7IQIGHH9M3D",
        "colab_type": "code",
        "colab": {}
      },
      "cell_type": "code",
      "source": [
        ""
      ],
      "execution_count": 0,
      "outputs": []
    }
  ]
}