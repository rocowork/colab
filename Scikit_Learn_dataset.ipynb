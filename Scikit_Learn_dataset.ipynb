{
  "nbformat": 4,
  "nbformat_minor": 0,
  "metadata": {
    "colab": {
      "name": "Scikit-Learn dataset.ipynb",
      "version": "0.3.2",
      "provenance": [],
      "collapsed_sections": [],
      "include_colab_link": true
    },
    "kernelspec": {
      "name": "python3",
      "display_name": "Python 3"
    },
    "accelerator": "GPU"
  },
  "cells": [
    {
      "cell_type": "markdown",
      "metadata": {
        "id": "view-in-github",
        "colab_type": "text"
      },
      "source": [
        "<a href=\"https://colab.research.google.com/github/rocowork/colab/blob/master/Scikit_Learn_dataset.ipynb\" target=\"_parent\"><img src=\"https://colab.research.google.com/assets/colab-badge.svg\" alt=\"Open In Colab\"/></a>"
      ]
    },
    {
      "metadata": {
        "id": "_sDnsyM8OfMM",
        "colab_type": "code",
        "colab": {}
      },
      "cell_type": "code",
      "source": [
        "#Scikit-Learn dataset 資料讀入與資料探索 1. digits 2. iris\n",
        "\n",
        "#讀入資料digits\n",
        "# Import `datasets` from `sklearn`\n",
        "from sklearn import datasets\n",
        "# Load in the `digits` data\n",
        "digits = datasets.load_digits()\n",
        "# Print the `digits` data \n",
        "print(digits)\n"
      ],
      "execution_count": 0,
      "outputs": []
    },
    {
      "metadata": {
        "id": "4uajlvywPb8b",
        "colab_type": "code",
        "colab": {}
      },
      "cell_type": "code",
      "source": [
        "# Import the `pandas` library as `pd`\n",
        "import pandas as pd\n",
        "\n",
        "# Load in the data with `read_csv()`\n",
        "digits = pd.read_csv(\"http://archive.ics.uci.edu/ml/machine-learning-databases/optdigits/optdigits.tra\", header=None)  #.tra 與 .tes 機器學習資料 分訓練與測試資料\n",
        "\n",
        "# Print out `digits`\n",
        "print(digits)"
      ],
      "execution_count": 0,
      "outputs": []
    },
    {
      "metadata": {
        "id": "g6EObnuTRBKG",
        "colab_type": "code",
        "colab": {
          "base_uri": "https://localhost:8080/",
          "height": 952
        },
        "outputId": "8d2f5375-f2fa-477a-9679-5be7d90da719"
      },
      "cell_type": "code",
      "source": [
        "# Get the keys of the `digits` data\n",
        "print(\"可蒐集的基本資訊:\",digits.keys())                   #keys() 方法來得知有哪些基本資訊可以搜集\n",
        "\n",
        "# Print out the data\n",
        "print(\"觀察預測變數:\",digits.data)                         #data屬性 觀察預測變數\n",
        "\n",
        "# Print out the target values\n",
        "print(\"觀察目標變數:\",digits.target)                       #target屬性 觀察目標變數\n",
        "\n",
        "# Print out the description of the `digits` data\n",
        "print(\"閱讀資料的描述文件:\",digits.DESCR)                  #DESCR屬性 閱讀資料的描述文件"
      ],
      "execution_count": 22,
      "outputs": [
        {
          "output_type": "stream",
          "text": [
            "可蒐集的基本資訊: dict_keys(['data', 'target', 'target_names', 'images', 'DESCR'])\n",
            "觀察預測變數: [[ 0.  0.  5. ...  0.  0.  0.]\n",
            " [ 0.  0.  0. ... 10.  0.  0.]\n",
            " [ 0.  0.  0. ... 16.  9.  0.]\n",
            " ...\n",
            " [ 0.  0.  1. ...  6.  0.  0.]\n",
            " [ 0.  0.  2. ... 12.  0.  0.]\n",
            " [ 0.  0. 10. ... 12.  1.  0.]]\n",
            "觀察目標變數: [0 1 2 ... 8 9 8]\n",
            "閱讀資料的描述文件: .. _digits_dataset:\n",
            "\n",
            "Optical recognition of handwritten digits dataset\n",
            "--------------------------------------------------\n",
            "\n",
            "**Data Set Characteristics:**\n",
            "\n",
            "    :Number of Instances: 5620\n",
            "    :Number of Attributes: 64\n",
            "    :Attribute Information: 8x8 image of integer pixels in the range 0..16.\n",
            "    :Missing Attribute Values: None\n",
            "    :Creator: E. Alpaydin (alpaydin '@' boun.edu.tr)\n",
            "    :Date: July; 1998\n",
            "\n",
            "This is a copy of the test set of the UCI ML hand-written digits datasets\n",
            "http://archive.ics.uci.edu/ml/datasets/Optical+Recognition+of+Handwritten+Digits\n",
            "\n",
            "The data set contains images of hand-written digits: 10 classes where\n",
            "each class refers to a digit.\n",
            "\n",
            "Preprocessing programs made available by NIST were used to extract\n",
            "normalized bitmaps of handwritten digits from a preprinted form. From a\n",
            "total of 43 people, 30 contributed to the training set and different 13\n",
            "to the test set. 32x32 bitmaps are divided into nonoverlapping blocks of\n",
            "4x4 and the number of on pixels are counted in each block. This generates\n",
            "an input matrix of 8x8 where each element is an integer in the range\n",
            "0..16. This reduces dimensionality and gives invariance to small\n",
            "distortions.\n",
            "\n",
            "For info on NIST preprocessing routines, see M. D. Garris, J. L. Blue, G.\n",
            "T. Candela, D. L. Dimmick, J. Geist, P. J. Grother, S. A. Janet, and C.\n",
            "L. Wilson, NIST Form-Based Handprint Recognition System, NISTIR 5469,\n",
            "1994.\n",
            "\n",
            ".. topic:: References\n",
            "\n",
            "  - C. Kaynak (1995) Methods of Combining Multiple Classifiers and Their\n",
            "    Applications to Handwritten Digit Recognition, MSc Thesis, Institute of\n",
            "    Graduate Studies in Science and Engineering, Bogazici University.\n",
            "  - E. Alpaydin, C. Kaynak (1998) Cascading Classifiers, Kybernetika.\n",
            "  - Ken Tang and Ponnuthurai N. Suganthan and Xi Yao and A. Kai Qin.\n",
            "    Linear dimensionalityreduction using relevance weighted LDA. School of\n",
            "    Electrical and Electronic Engineering Nanyang Technological University.\n",
            "    2005.\n",
            "  - Claudio Gentile. A New Approximate Maximal Margin Classification\n",
            "    Algorithm. NIPS. 2000.\n"
          ],
          "name": "stdout"
        }
      ]
    },
    {
      "metadata": {
        "id": "BiQd4goVVdM2",
        "colab_type": "code",
        "colab": {
          "base_uri": "https://localhost:8080/",
          "height": 68
        },
        "outputId": "8c824b36-a816-4f1a-9b95-5d3f77ca9df6"
      },
      "cell_type": "code",
      "source": [
        "import numpy as np\n",
        "# Isolate the `digits` data\n",
        "digits_data = digits.data\n",
        "\n",
        "# Inspect the shape\n",
        "print(digits_data.shape)\n",
        "\n",
        "# Isolate the target values with `target`\n",
        "digits_target = digits.target\n",
        "\n",
        "# Inspect the shape\n",
        "print(digits_target.shape)\n",
        "\n",
        "# Print the number of unique labels\n",
        "number_digits = len(np.unique(digits.target))\n",
        "\n",
        "# Isolate the `images`\n",
        "digits_images = digits.images\n",
        "\n",
        "# Inspect the shape\n",
        "print(digits_images.shape)\n",
        "\n",
        "#檢視 digits.data.shape 可以得知資料有 1,797 個觀測值，64 個變數，檢視 digits.target.shape 可以得知資料有 1,797 個目標值（或稱標籤值），而檢視 len(np.unique(digits.target)) 可以得知所有的目標值只有 10 個相異值：0 到 9，意即我們的模型是要辨識手寫數字圖片是 0 到 9 中的哪一個數字。\n",
        "#最後是 digits.images 的三個維度：1,797 個 8 x 8 像素的矩陣，我們可以進一步將 digits.images 轉換（reshape）為兩個維度，並且使用 numpy 的 all() 方法比較陣列內的元素是否與 digits.data 完全相同：print(np.all(digits.images.reshape((1797,64)) == digits.data))，而我們會得到 True 的結果。"
      ],
      "execution_count": 27,
      "outputs": [
        {
          "output_type": "stream",
          "text": [
            "(1797, 64)\n",
            "(1797,)\n",
            "(1797, 8, 8)\n"
          ],
          "name": "stdout"
        }
      ]
    },
    {
      "metadata": {
        "id": "AiHnKSBWXe_d",
        "colab_type": "code",
        "colab": {}
      },
      "cell_type": "code",
      "source": [
        ""
      ],
      "execution_count": 0,
      "outputs": []
    }
  ]
}