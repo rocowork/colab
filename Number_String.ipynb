{
  "nbformat": 4,
  "nbformat_minor": 0,
  "metadata": {
    "colab": {
      "name": "Number_String.ipynb",
      "version": "0.3.2",
      "provenance": [],
      "collapsed_sections": [],
      "include_colab_link": true
    },
    "kernelspec": {
      "name": "python3",
      "display_name": "Python 3"
    }
  },
  "cells": [
    {
      "cell_type": "markdown",
      "metadata": {
        "id": "view-in-github",
        "colab_type": "text"
      },
      "source": [
        "<a href=\"https://colab.research.google.com/github/rocowork/colab/blob/master/Number_String.ipynb\" target=\"_parent\"><img src=\"https://colab.research.google.com/assets/colab-badge.svg\" alt=\"Open In Colab\"/></a>"
      ]
    },
    {
      "metadata": {
        "id": "94Zj6ZMg-ZzN",
        "colab_type": "code",
        "outputId": "8ee4419b-c53a-4811-d791-e451b3af46fc",
        "colab": {
          "base_uri": "https://localhost:8080/",
          "height": 416
        }
      },
      "cell_type": "code",
      "source": [
        "#數字運算\n",
        "x=7/6\n",
        "print(x)\n",
        "x=7//6\n",
        "print(x)\n",
        "#/小數除法//整數除法\n",
        "y=2**3\n",
        "print(y)\n",
        "#2的3次方\n",
        "z=9**0.5\n",
        "print(z)\n",
        "#9開根號\n",
        "t=7%3\n",
        "print(t)\n",
        "#取餘數\n",
        "t=t+1\n",
        "print(t)\n",
        "#將變數中的數字+1 相當於t+=1\n",
        "\n",
        "\n",
        "#字串運算\n",
        "s=\"Hello\"\n",
        "print(s)\n",
        "s=\"He\\\"ll\\\"o\"\n",
        "print(s)\n",
        "#\\跳脫符號可以顯示雙引號\n",
        "s=\"Hello\"+\"World\"\n",
        "print(s)\n",
        "s=\"Hello\" \"World\"\n",
        "print(s)\n",
        "#字串的串接\n",
        "s=\"\\nHello\\n\\nWorld\"\n",
        "print(s)\n",
        "s=\"\"\"\n",
        "Hello\n",
        "\n",
        "World\"\"\"\n",
        "print(s)\n",
        "#斷行\n",
        "s=\"He\"+\"l\"*5+\"o\"\n",
        "print(s)\n",
        "s=\"World\"\n",
        "print(s[0])\n",
        "print(s[1:4])\n",
        "print(s[1:])\n",
        "print(s[:4])\n",
        "#字串會對內部的字元編號(索引)，從0開始"
      ],
      "execution_count": 0,
      "outputs": [
        {
          "output_type": "stream",
          "text": [
            "1.1666666666666667\n",
            "1\n",
            "8\n",
            "3.0\n",
            "1\n",
            "2\n",
            "Hello\n",
            "He\"ll\"o\n",
            "HelloWorld\n",
            "HelloWorld\n",
            "\n",
            "Hello\n",
            "\n",
            "World\n",
            "\n",
            "Hello\n",
            "\n",
            "World\n",
            "Helllllo\n",
            "W\n",
            "orl\n",
            "orld\n",
            "Worl\n"
          ],
          "name": "stdout"
        }
      ]
    },
    {
      "metadata": {
        "id": "n6p9H4VN-_GJ",
        "colab_type": "code",
        "colab": {}
      },
      "cell_type": "code",
      "source": [
        "\n"
      ],
      "execution_count": 0,
      "outputs": []
    }
  ]
}