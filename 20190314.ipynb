{
  "nbformat": 4,
  "nbformat_minor": 0,
  "metadata": {
    "colab": {
      "name": "20190314.ipynb",
      "version": "0.3.2",
      "provenance": [],
      "include_colab_link": true
    },
    "kernelspec": {
      "name": "python3",
      "display_name": "Python 3"
    }
  },
  "cells": [
    {
      "cell_type": "markdown",
      "metadata": {
        "id": "view-in-github",
        "colab_type": "text"
      },
      "source": [
        "<a href=\"https://colab.research.google.com/github/rocowork/colab/blob/master/20190314.ipynb\" target=\"_parent\"><img src=\"https://colab.research.google.com/assets/colab-badge.svg\" alt=\"Open In Colab\"/></a>"
      ]
    },
    {
      "metadata": {
        "id": "rVHzoezHrCb0",
        "colab_type": "code",
        "colab": {
          "base_uri": "https://localhost:8080/",
          "height": 51
        },
        "outputId": "f6fae54d-6045-4adb-f71c-80ffbc9c9a2e"
      },
      "cell_type": "code",
      "source": [
        "#判斷式\n",
        "x=input(\"請輸入數字:\")\n",
        "x=int(x)\n",
        "if x>200:\n",
        "  print(\"晴天\")\n",
        "elif x>100:\n",
        "  print(\"雨天\")\n",
        "else:\n",
        "  print(\"陰天\")\n",
        "      \n"
      ],
      "execution_count": 16,
      "outputs": [
        {
          "output_type": "stream",
          "text": [
            "請輸入數字:150\n",
            "陰天\n"
          ],
          "name": "stdout"
        }
      ]
    },
    {
      "metadata": {
        "id": "tjB7TcOMtwn9",
        "colab_type": "code",
        "colab": {
          "base_uri": "https://localhost:8080/",
          "height": 85
        },
        "outputId": "13ad4f1a-c880-4f36-90e2-97c3c4e24f98"
      },
      "cell_type": "code",
      "source": [
        "#四則運算\n",
        "n1=int(input(\"請輸入數字1:\"))\n",
        "n2=int(input(\"請輸入數字2:\"))\n",
        "opinput=input(\"請輸入運算符號 + - * / :\")\n",
        "\n",
        "if opinput==\"+\":\n",
        "  print(n1+n2)\n",
        "elif opinput==\"-\":\n",
        "  print(n1-n2)\n",
        "elif opinput==\"*\":\n",
        "  print(n1*n2)\n",
        "elif opinput==\"/\":\n",
        "  print(n1/n2)\n",
        "else:\n",
        "  print(\"不支援的運算\")"
      ],
      "execution_count": 19,
      "outputs": [
        {
          "output_type": "stream",
          "text": [
            "請輸入數字1:1\n",
            "請輸入數字2:2\n",
            "請輸入運算符號 + - * / :/\n",
            "0.5\n"
          ],
          "name": "stdout"
        }
      ]
    },
    {
      "metadata": {
        "id": "RIZ9MSQSr6n6",
        "colab_type": "code",
        "colab": {
          "base_uri": "https://localhost:8080/",
          "height": 34
        },
        "outputId": "6c3eb496-207f-45d3-f355-ba907a27a65d"
      },
      "cell_type": "code",
      "source": [
        "if True:\n",
        "  print(\"True執行\")"
      ],
      "execution_count": 12,
      "outputs": [
        {
          "output_type": "stream",
          "text": [
            "True執行\n"
          ],
          "name": "stdout"
        }
      ]
    },
    {
      "metadata": {
        "id": "WwZrZrD4sqIQ",
        "colab_type": "code",
        "colab": {
          "base_uri": "https://localhost:8080/",
          "height": 34
        },
        "outputId": "dccf2499-9e43-4199-ae88-620c4d837d4e"
      },
      "cell_type": "code",
      "source": [
        "if False:\n",
        "  print(\"True執行\")\n",
        "else:\n",
        "  print(\"False執行\")"
      ],
      "execution_count": 14,
      "outputs": [
        {
          "output_type": "stream",
          "text": [
            "False執行\n"
          ],
          "name": "stdout"
        }
      ]
    }
  ]
}