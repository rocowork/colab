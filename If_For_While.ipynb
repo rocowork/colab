{
  "nbformat": 4,
  "nbformat_minor": 0,
  "metadata": {
    "colab": {
      "name": "20190314_If_For_While.ipynb",
      "version": "0.3.2",
      "provenance": [],
      "collapsed_sections": [],
      "include_colab_link": true
    },
    "kernelspec": {
      "name": "python3",
      "display_name": "Python 3"
    }
  },
  "cells": [
    {
      "cell_type": "markdown",
      "metadata": {
        "id": "view-in-github",
        "colab_type": "text"
      },
      "source": [
        "<a href=\"https://colab.research.google.com/github/rocowork/colab/blob/master/20190314_If_For_While.ipynb\" target=\"_parent\"><img src=\"https://colab.research.google.com/assets/colab-badge.svg\" alt=\"Open In Colab\"/></a>"
      ]
    },
    {
      "metadata": {
        "id": "RIZ9MSQSr6n6",
        "colab_type": "code",
        "outputId": "6c3eb496-207f-45d3-f355-ba907a27a65d",
        "colab": {
          "base_uri": "https://localhost:8080/",
          "height": 34
        }
      },
      "cell_type": "code",
      "source": [
        "if True:\n",
        "  print(\"True執行\")"
      ],
      "execution_count": 0,
      "outputs": [
        {
          "output_type": "stream",
          "text": [
            "True執行\n"
          ],
          "name": "stdout"
        }
      ]
    },
    {
      "metadata": {
        "id": "WwZrZrD4sqIQ",
        "colab_type": "code",
        "outputId": "dccf2499-9e43-4199-ae88-620c4d837d4e",
        "colab": {
          "base_uri": "https://localhost:8080/",
          "height": 34
        }
      },
      "cell_type": "code",
      "source": [
        "if False:\n",
        "  print(\"True執行\")\n",
        "else:\n",
        "  print(\"False執行\")"
      ],
      "execution_count": 0,
      "outputs": [
        {
          "output_type": "stream",
          "text": [
            "False執行\n"
          ],
          "name": "stdout"
        }
      ]
    },
    {
      "metadata": {
        "id": "rVHzoezHrCb0",
        "colab_type": "code",
        "outputId": "f6fae54d-6045-4adb-f71c-80ffbc9c9a2e",
        "colab": {
          "base_uri": "https://localhost:8080/",
          "height": 51
        }
      },
      "cell_type": "code",
      "source": [
        "#判斷式\n",
        "x=input(\"請輸入數字:\")\n",
        "x=int(x)\n",
        "if x>200:\n",
        "  print(\"晴天\")\n",
        "elif x>100:\n",
        "  print(\"雨天\")\n",
        "else:\n",
        "  print(\"陰天\")\n",
        "      \n"
      ],
      "execution_count": 0,
      "outputs": [
        {
          "output_type": "stream",
          "text": [
            "請輸入數字:150\n",
            "陰天\n"
          ],
          "name": "stdout"
        }
      ]
    },
    {
      "metadata": {
        "id": "tjB7TcOMtwn9",
        "colab_type": "code",
        "outputId": "13ad4f1a-c880-4f36-90e2-97c3c4e24f98",
        "colab": {
          "base_uri": "https://localhost:8080/",
          "height": 85
        }
      },
      "cell_type": "code",
      "source": [
        "#四則運算\n",
        "n1=int(input(\"請輸入數字1:\"))\n",
        "n2=int(input(\"請輸入數字2:\"))\n",
        "opinput=input(\"請輸入運算符號 + - * / :\")\n",
        "\n",
        "if opinput==\"+\":\n",
        "  print(n1+n2)\n",
        "elif opinput==\"-\":\n",
        "  print(n1-n2)\n",
        "elif opinput==\"*\":\n",
        "  print(n1*n2)\n",
        "elif opinput==\"/\":\n",
        "  print(n1/n2)\n",
        "else:\n",
        "  print(\"不支援的運算\")"
      ],
      "execution_count": 0,
      "outputs": [
        {
          "output_type": "stream",
          "text": [
            "請輸入數字1:1\n",
            "請輸入數字2:2\n",
            "請輸入運算符號 + - * / :/\n",
            "0.5\n"
          ],
          "name": "stdout"
        }
      ]
    },
    {
      "metadata": {
        "id": "gnKAOIoJvbzq",
        "colab_type": "code",
        "outputId": "93a4c250-c17f-462f-eaf9-408109589ca5",
        "colab": {
          "base_uri": "https://localhost:8080/",
          "height": 85
        }
      },
      "cell_type": "code",
      "source": [
        "#while迴圈\n",
        "#while 布林值:\n",
        "\n",
        "n=1\n",
        "while n<5:\n",
        "  print(\"變數n的資料是:\",n)\n",
        "  n+=1"
      ],
      "execution_count": 0,
      "outputs": [
        {
          "output_type": "stream",
          "text": [
            "變數n的資料是: 1\n",
            "變數n的資料是: 2\n",
            "變數n的資料是: 3\n",
            "變數n的資料是: 4\n"
          ],
          "name": "stdout"
        }
      ]
    },
    {
      "metadata": {
        "id": "2dO4xAB4ySR4",
        "colab_type": "code",
        "outputId": "15f2c994-16d4-4057-e16c-040d6c705b1c",
        "colab": {
          "base_uri": "https://localhost:8080/",
          "height": 204
        }
      },
      "cell_type": "code",
      "source": [
        "n=1\n",
        "sum=0 #紀錄累加的結果\n",
        "while n<=10:\n",
        "  print(n)\n",
        "  sum= sum+n\n",
        "  n+=1\n",
        "print(\"1+2+...+10=\",sum)"
      ],
      "execution_count": 0,
      "outputs": [
        {
          "output_type": "stream",
          "text": [
            "1\n",
            "2\n",
            "3\n",
            "4\n",
            "5\n",
            "6\n",
            "7\n",
            "8\n",
            "9\n",
            "10\n",
            "1+2+...+10= 55\n"
          ],
          "name": "stdout"
        }
      ]
    },
    {
      "metadata": {
        "id": "zK6HTWaQvvYX",
        "colab_type": "code",
        "outputId": "1a001f9e-0fa0-4f9f-c399-fa315230981f",
        "colab": {
          "base_uri": "https://localhost:8080/",
          "height": 153
        }
      },
      "cell_type": "code",
      "source": [
        "#for迴圈\n",
        "#for 變數名稱 in 列表或字串:\n",
        "for x in [3,4,5]:\n",
        "  print (\"逐一取得列表中的資料:\",x)\n",
        "  \n",
        "for y in \"Hello\":\n",
        "    print(\"逐一取得字串中的字元\",y)"
      ],
      "execution_count": 0,
      "outputs": [
        {
          "output_type": "stream",
          "text": [
            "逐一取得列表中的資料: 3\n",
            "逐一取得列表中的資料: 4\n",
            "逐一取得列表中的資料: 5\n",
            "逐一取得字串中的字元 H\n",
            "逐一取得字串中的字元 e\n",
            "逐一取得字串中的字元 l\n",
            "逐一取得字串中的字元 l\n",
            "逐一取得字串中的字元 o\n"
          ],
          "name": "stdout"
        }
      ]
    },
    {
      "metadata": {
        "id": "69TEV9tPwNBO",
        "colab_type": "code",
        "colab": {}
      },
      "cell_type": "code",
      "source": [
        "#使用range()  製造出連續數字的列表\n",
        "#for 變數名稱 in range(3):\n",
        "#相當於\n",
        "#for 變數名稱 in [0,1,2]:\n",
        "\n",
        "#for 變數名稱 in range(3,6):\n",
        "#相當於\n",
        "#for 變數名稱 in [3,4,5]: "
      ],
      "execution_count": 0,
      "outputs": []
    },
    {
      "metadata": {
        "id": "H18fWq6PxnOK",
        "colab_type": "code",
        "colab": {
          "base_uri": "https://localhost:8080/",
          "height": 187
        },
        "outputId": "270bf68a-0954-4b67-8a9e-d5f76bf5e090"
      },
      "cell_type": "code",
      "source": [
        "sum=0\n",
        "for x in [1,2,3,4,5,6,7,8,9,10]:\n",
        "  #print(x)\n",
        "  sum=sum+x\n",
        "print(sum)"
      ],
      "execution_count": 26,
      "outputs": [
        {
          "output_type": "stream",
          "text": [
            "1\n",
            "3\n",
            "6\n",
            "10\n",
            "15\n",
            "21\n",
            "28\n",
            "36\n",
            "45\n",
            "55\n"
          ],
          "name": "stdout"
        }
      ]
    },
    {
      "metadata": {
        "id": "8-giCvmZMZmA",
        "colab_type": "code",
        "colab": {
          "base_uri": "https://localhost:8080/",
          "height": 34
        },
        "outputId": "cdd8e547-3f0c-4db7-8721-b3894110c46f"
      },
      "cell_type": "code",
      "source": [
        "sum=0\n",
        "for x in range(11):\n",
        "  #print(x)\n",
        "  sum=sum+x\n",
        "print(sum)"
      ],
      "execution_count": 29,
      "outputs": [
        {
          "output_type": "stream",
          "text": [
            "55\n"
          ],
          "name": "stdout"
        }
      ]
    },
    {
      "metadata": {
        "id": "braynWDqKTuf",
        "colab_type": "code",
        "colab": {}
      },
      "cell_type": "code",
      "source": [
        ""
      ],
      "execution_count": 0,
      "outputs": []
    }
  ]
}
