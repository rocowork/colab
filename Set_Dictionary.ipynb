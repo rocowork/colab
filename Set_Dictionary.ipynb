{
  "nbformat": 4,
  "nbformat_minor": 0,
  "metadata": {
    "colab": {
      "name": "Set_Dictionary.ipynb",
      "version": "0.3.2",
      "provenance": [],
      "collapsed_sections": [],
      "include_colab_link": true
    },
    "kernelspec": {
      "name": "python3",
      "display_name": "Python 3"
    },
    "accelerator": "GPU"
  },
  "cells": [
    {
      "cell_type": "markdown",
      "metadata": {
        "id": "view-in-github",
        "colab_type": "text"
      },
      "source": [
        "<a href=\"https://colab.research.google.com/github/rocowork/colab/blob/master/Set_Dictionary.ipynb\" target=\"_parent\"><img src=\"https://colab.research.google.com/assets/colab-badge.svg\" alt=\"Open In Colab\"/></a>"
      ]
    },
    {
      "metadata": {
        "id": "Kgs2uCNBe_RU",
        "colab_type": "code",
        "outputId": "35642d53-4f6e-4fd3-83d1-35a1b556bf30",
        "colab": {
          "base_uri": "https://localhost:8080/",
          "height": 191
        }
      },
      "cell_type": "code",
      "source": [
        "#集合Set\n",
        "s1={3,4,5}\n",
        "print(3 in s1) #使用in 或 not in判斷資料是否在集合中 \n",
        "print(10 in s1)\n",
        "s2={4,5,6,7}\n",
        "s3=s1&s2 #集合的運算 &交集(取兩個集合中相同的資料) |聯集(取兩個集合中的所有資料但不重複取) -差集(從第一個集合中減去和第二個集合中重疊的部分) ^反交集(取兩個集合中不重疊的部分)\n",
        "s4=s1|s2\n",
        "s5=s1-s2 #從s1中減去和s2重疊的部分\n",
        "s6=s2-s1\n",
        "s7=s1^s2\n",
        "print(s3,s4,s5,s6,s7)\n",
        "s=set(\"Hello\") #set(字串) 將字串拆解成集合，資料不重複\n",
        "print(s)\n",
        "#字典Dictionary key-value配對\n",
        "dic={\"apple\":\"蘋果\",\"bug\":\"蟲蟲\"}\n",
        "print(dic[\"bug\"])\n",
        "dic[\"apple\"]=\"小蘋果\" \n",
        "print(dic[\"apple\"])\n",
        "print(\"apple\" in dic) #判斷key是否存在\n",
        "\n",
        "print(dic)\n",
        "del dic[\"apple\"] #刪除字典中的鍵值對(key-value pair)\n",
        "print(dic)\n",
        "\n",
        "dic={x:x*2 for x in [3,4,5]} #從列表的資料產生字典，x可以換其他的i\n",
        "print(dic)"
      ],
      "execution_count": 0,
      "outputs": [
        {
          "output_type": "stream",
          "text": [
            "True\n",
            "False\n",
            "{4, 5} {3, 4, 5, 6, 7} {3} {6, 7} {3, 6, 7}\n",
            "{'l', 'H', 'e', 'o'}\n",
            "蟲蟲\n",
            "小蘋果\n",
            "True\n",
            "{'apple': '小蘋果', 'bug': '蟲蟲'}\n",
            "{'bug': '蟲蟲'}\n",
            "{3: 6, 4: 8, 5: 10}\n"
          ],
          "name": "stdout"
        }
      ]
    },
    {
      "metadata": {
        "id": "tit_9PXigHWf",
        "colab_type": "code",
        "colab": {}
      },
      "cell_type": "code",
      "source": [
        ""
      ],
      "execution_count": 0,
      "outputs": []
    }
  ]
}