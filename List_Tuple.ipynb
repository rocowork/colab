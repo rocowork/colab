{
  "nbformat": 4,
  "nbformat_minor": 0,
  "metadata": {
    "colab": {
      "name": "List_Tuple.ipynb",
      "version": "0.3.2",
      "provenance": [],
      "collapsed_sections": [],
      "include_colab_link": true
    },
    "kernelspec": {
      "name": "python3",
      "display_name": "Python 3"
    }
  },
  "cells": [
    {
      "cell_type": "markdown",
      "metadata": {
        "id": "view-in-github",
        "colab_type": "text"
      },
      "source": [
        "<a href=\"https://colab.research.google.com/github/rocowork/colab/blob/master/List_Tuple.ipynb\" target=\"_parent\"><img src=\"https://colab.research.google.com/assets/colab-badge.svg\" alt=\"Open In Colab\"/></a>"
      ]
    },
    {
      "metadata": {
        "id": "sdfL_rs4LGYL",
        "colab_type": "code",
        "outputId": "8a689fa5-597c-4b8d-eba8-43874f4bb434",
        "colab": {
          "base_uri": "https://localhost:8080/",
          "height": 191
        }
      },
      "cell_type": "code",
      "source": [
        "#有序可變動列表List\n",
        "grades=[60,50,70,30,90]\n",
        "print(grades[0])#顯示列表中編號0(第一個位置)的資料\n",
        "grades[1]=85 #把85放到列表中編號1的位置(第2個位置)\n",
        "print(grades)\n",
        "grades[1:2]=[] #連續刪除列表中從編號1到編號2(不包括)的資料\n",
        "print(grades)\n",
        "\n",
        "grades=grades+[12,33] #列表串接\n",
        "print(grades)\n",
        "#取得列表的長度len(列表資料)\n",
        "print(len(grades))\n",
        "\n",
        "#巢狀的列表\n",
        "data=[[3,4,5],[6,7,8]]\n",
        "print(data[0][1])\n",
        "data[0][0:2]=[4,3,2,1]#將巢狀的第一個列表內的第一個到第三個(不包含)的資料換成新的列表資料\n",
        "print(data)\n",
        "#有序不可變動列表Tuple\n",
        "x=(3,4,5)\n",
        "print(x[1:])\n",
        "print(x[:2])\n",
        "print(x[0:1])"
      ],
      "execution_count": 0,
      "outputs": [
        {
          "output_type": "stream",
          "text": [
            "60\n",
            "[60, 85, 70, 30, 90]\n",
            "[60, 70, 30, 90]\n",
            "[60, 70, 30, 90, 12, 33]\n",
            "6\n",
            "4\n",
            "[[4, 3, 2, 1, 5], [6, 7, 8]]\n",
            "(4, 5)\n",
            "(3, 4)\n",
            "(3,)\n"
          ],
          "name": "stdout"
        }
      ]
    },
    {
      "metadata": {
        "id": "Kk5CHadkYscJ",
        "colab_type": "code",
        "colab": {}
      },
      "cell_type": "code",
      "source": [
        ""
      ],
      "execution_count": 0,
      "outputs": []
    }
  ]
}